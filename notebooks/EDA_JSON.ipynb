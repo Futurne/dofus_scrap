{
 "cells": [
  {
   "cell_type": "code",
   "execution_count": 24,
   "id": "ee1d9f2c-c09c-488c-8ed5-b3a6f456e7e2",
   "metadata": {},
   "outputs": [
    {
     "name": "stdout",
     "output_type": "stream",
     "text": [
      "/home/pierrotlc/Documents/dofus_scrap\n"
     ]
    }
   ],
   "source": [
    "%cd ~/Documents/dofus_scrap/\n",
    "\n",
    "import os\n",
    "import json\n",
    "from pprint import pprint\n",
    "\n",
    "\n",
    "def load_json(path: str) -> dict:\n",
    "    with open(path, 'r') as json_file:\n",
    "        data = json.load(json_file)\n",
    "    return data\n",
    "\n",
    "\n",
    "json_paths = [\n",
    "    os.path.join('data', f)\n",
    "    for f in os.listdir('data')\n",
    "    if f.endswith('.json')\n",
    "]\n",
    "\n",
    "data = {\n",
    "    path.split('/')[1].split('.')[0]: load_json(path)\n",
    "    for path in json_paths\n",
    "}"
   ]
  },
  {
   "cell_type": "markdown",
   "id": "88b7425c-0add-4de9-9a1a-94b4561c9133",
   "metadata": {},
   "source": [
    "## Primary keys"
   ]
  },
  {
   "cell_type": "code",
   "execution_count": 30,
   "id": "3719ea2e-a822-498b-87a0-f977601e5570",
   "metadata": {},
   "outputs": [],
   "source": [
    "def get_primary_keys(data: dict) -> dict[str, set[str]]:\n",
    "    primary_keys = dict()\n",
    "    for category, items in data.items():\n",
    "        primary_keys[category] = set()\n",
    "        for i in items:\n",
    "            primary_keys[category] |= set(i.keys())\n",
    "\n",
    "    return primary_keys\n",
    "\n",
    "primary_keys = get_primary_keys(data)"
   ]
  },
  {
   "cell_type": "markdown",
   "id": "a094b527-e006-4944-9d86-bec9c08f0b60",
   "metadata": {},
   "source": [
    "Primary keys for each category."
   ]
  },
  {
   "cell_type": "code",
   "execution_count": 32,
   "id": "c092e698-707d-45f8-b986-33262966c855",
   "metadata": {},
   "outputs": [
    {
     "name": "stdout",
     "output_type": "stream",
     "text": [
      "For category: armes\n",
      " - Type\n",
      " - caractéristiques\n",
      " - conditions\n",
      " - description\n",
      " - dégâts\n",
      " - effets\n",
      " - erreur 404\n",
      " - illustration_url\n",
      " - niveau\n",
      " - nom\n",
      " - recette\n",
      " - url\n",
      "\n",
      "For category: bestiaire\n",
      " - Race\n",
      " - butins\n",
      " - butins conditionnés\n",
      " - caractéristiques\n",
      " - de la même famille\n",
      " - illustration_url\n",
      " - niveau\n",
      " - nom\n",
      " - résistances\n",
      " - url\n",
      "\n",
      "For category: compagnons\n",
      " - Type\n",
      " - description\n",
      " - illustration_url\n",
      " - nom\n",
      " - url\n",
      "\n",
      "For category: consommables\n",
      " - Type\n",
      " - conditions\n",
      " - description\n",
      " - effets\n",
      " - erreur 404\n",
      " - illustration_url\n",
      " - niveau\n",
      " - nom\n",
      " - recette\n",
      " - url\n",
      "\n",
      "For category: équipements\n",
      " - Type\n",
      " - conditions\n",
      " - description\n",
      " - effets\n",
      " - erreur 404\n",
      " - illustration_url\n",
      " - niveau\n",
      " - nom\n",
      " - recette\n",
      " - url\n",
      "\n",
      "For category: familiers\n",
      " - Type\n",
      " - conditions\n",
      " - description\n",
      " - effets évolutifs\n",
      " - erreur 404\n",
      " - illustration_url\n",
      " - niveau\n",
      " - nom\n",
      " - url\n",
      "\n",
      "For category: harnachements\n",
      " - Type\n",
      " - conditions\n",
      " - description\n",
      " - erreur 404\n",
      " - illustration_url\n",
      " - niveau\n",
      " - nom\n",
      " - url\n",
      "\n",
      "For category: idoles\n",
      " - Type\n",
      " - bonus\n",
      " - description\n",
      " - illustration_url\n",
      " - niveau\n",
      " - nom\n",
      " - recette\n",
      " - sorts\n",
      " - url\n",
      "\n",
      "For category: montures\n",
      " - Type\n",
      " - caractéristiques\n",
      " - effets\n",
      " - illustration_url\n",
      " - issu du croisement\n",
      " - nom\n",
      " - url\n",
      "\n",
      "For category: panoplies\n",
      " - Type\n",
      " - bonus de la panoplie\n",
      " - composition\n",
      " - illustration_url\n",
      " - niveau\n",
      " - nom\n",
      " - url\n",
      "\n",
      "For category: ressources\n",
      " - Type\n",
      " - conditions\n",
      " - description\n",
      " - effets\n",
      " - erreur 404\n",
      " - illustration_url\n",
      " - niveau\n",
      " - nom\n",
      " - recette\n",
      " - url\n",
      "\n",
      "For category: objets d'apparat\n",
      " - Type\n",
      " - conditions\n",
      " - description\n",
      " - erreur 404\n",
      " - illustration_url\n",
      " - niveau\n",
      " - nom\n",
      " - recette\n",
      " - url\n",
      "\n"
     ]
    }
   ],
   "source": [
    "for category, keys in primary_keys.items():\n",
    "    print(f'For category: {category}')\n",
    "    for k in sorted(keys):\n",
    "        print(f' - {k}')\n",
    "    print('')"
   ]
  },
  {
   "cell_type": "markdown",
   "id": "9bed7a65-1440-4a3a-8495-c471416d3cfe",
   "metadata": {},
   "source": [
    "Primary keys common for all categories."
   ]
  },
  {
   "cell_type": "code",
   "execution_count": 35,
   "id": "f38b07cc-0bdd-434d-b802-d793e3e5a0c1",
   "metadata": {},
   "outputs": [
    {
     "name": "stdout",
     "output_type": "stream",
     "text": [
      "Common primary keys:\n",
      "- nom\n",
      "- url\n",
      "- illustration_url\n"
     ]
    }
   ],
   "source": [
    "common = set()\n",
    "for pk in primary_keys.values():\n",
    "    common |= pk\n",
    "    \n",
    "for pk in primary_keys.values():\n",
    "    common &= pk\n",
    "\n",
    "print('Common primary keys:')\n",
    "for k in common:\n",
    "    print(f'- {k}')"
   ]
  },
  {
   "cell_type": "code",
   "execution_count": null,
   "id": "5bd15da2-730e-4a73-bc39-6e7351b42579",
   "metadata": {},
   "outputs": [],
   "source": []
  }
 ],
 "metadata": {
  "kernelspec": {
   "display_name": "Python 3 (ipykernel)",
   "language": "python",
   "name": "python3"
  },
  "language_info": {
   "codemirror_mode": {
    "name": "ipython",
    "version": 3
   },
   "file_extension": ".py",
   "mimetype": "text/x-python",
   "name": "python",
   "nbconvert_exporter": "python",
   "pygments_lexer": "ipython3",
   "version": "3.10.6"
  }
 },
 "nbformat": 4,
 "nbformat_minor": 5
}
